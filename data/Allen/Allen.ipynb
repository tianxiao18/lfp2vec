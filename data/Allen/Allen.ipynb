{
 "cells": [
  {
   "cell_type": "code",
   "id": "initial_id",
   "metadata": {
    "collapsed": true,
    "jupyter": {
     "is_executing": true
    }
   },
   "source": [
    "import os\n",
    "import numpy as np\n",
    "import pandas as pd\n",
    "import vedo\n",
    "\n",
    "import matplotlib.pyplot as plt\n",
    "%matplotlib inline\n",
    "\n",
    "from tqdm import tqdm\n",
    "from brainrender import Scene, settings\n",
    "from brainrender.actors import Points\n",
    "from allensdk.brain_observatory.ecephys.ecephys_project_cache import EcephysProjectCache\n",
    "\n",
    "settings.SHOW_AXES = False  # No axes"
   ],
   "outputs": [],
   "execution_count": null
  },
  {
   "metadata": {},
   "cell_type": "code",
   "source": [
    "output_dir = 'data'\n",
    "manifest_path = os.path.join(output_dir, \"manifest.json\")\n",
    "cache = EcephysProjectCache.from_warehouse(manifest=manifest_path)"
   ],
   "id": "637ebb7314abe8a4",
   "outputs": [],
   "execution_count": null
  },
  {
   "metadata": {},
   "cell_type": "code",
   "source": [
    "sessions = cache.get_session_table()\n",
    "sessions.head()"
   ],
   "id": "c45401879d0120b6",
   "outputs": [],
   "execution_count": null
  },
  {
   "metadata": {},
   "cell_type": "code",
   "source": [
    "probes = cache.get_probes()\n",
    "probes.head()"
   ],
   "id": "fe426b51dc477006",
   "outputs": [],
   "execution_count": null
  },
  {
   "metadata": {},
   "cell_type": "code",
   "source": [
    "print('Fraction of probes with LFP: ' + str(np.around( np.sum(probes.has_lfp_data) / len(probes), 3) ) )\n",
    "print(' ')\n",
    "print('Sessions with missing LFP files: ' + str(list(probes[probes.has_lfp_data == False].ecephys_session_id.unique())))"
   ],
   "id": "2d81d83e1d318e53",
   "outputs": [],
   "execution_count": null
  },
  {
   "metadata": {},
   "cell_type": "code",
   "source": [
    "channels = cache.get_channels()\n",
    "channels.head()"
   ],
   "id": "754c83431cfd1688",
   "outputs": [],
   "execution_count": null
  },
  {
   "metadata": {},
   "cell_type": "code",
   "source": [
    "unique_brain_regions = np.array(channels['ecephys_structure_acronym'].unique())\n",
    "unique_brain_regions"
   ],
   "id": "136e7d4a13b3d49c",
   "outputs": [],
   "execution_count": null
  },
  {
   "metadata": {},
   "cell_type": "code",
   "source": [
    "cols_to_keep = ['ecephys_session_id', 'anterior_posterior_ccf_coordinate',\n",
    "                 'dorsal_ventral_ccf_coordinate', 'left_right_ccf_coordinate']\n",
    "plot_df = channels[cols_to_keep]\n",
    "plot_df.head()"
   ],
   "id": "c723ca7b74b81351",
   "outputs": [],
   "execution_count": null
  },
  {
   "metadata": {},
   "cell_type": "code",
   "source": "plot_df.shape",
   "id": "f864484616151050",
   "outputs": [],
   "execution_count": null
  },
  {
   "metadata": {},
   "cell_type": "code",
   "source": [
    "vedo.settings.default_backend = 'vtk'\n",
    "popup_scene = Scene(atlas_name='allen_mouse_50um', title='Probe distribution - Allen')\n",
    "# popup_scene.hemisphere = 'right'"
   ],
   "id": "70a7623d85de2476",
   "outputs": [],
   "execution_count": null
  },
  {
   "metadata": {},
   "cell_type": "code",
   "source": [
    "# 'APN', 'LP', 'MB', 'DG', 'CA1', 'VISrl', 'TH', 'LGd', 'CA3',\n",
    "# 'VIS', 'CA2', 'ProS', 'VISp', 'POL', 'VISpm', 'PPT', 'OP', 'NOT',\n",
    "# 'HPF', 'SUB', 'VISam', 'ZI', 'LGv', 'VISal', 'VISl', 'SGN', 'SCig',\n",
    "# 'MGm', 'MGv', 'VPM', 'grey', 'Eth', 'VPL', 'IGL', 'PP', 'PIL',\n",
    "# 'PO', 'VISmma', 'POST', 'SCop', 'SCsg', 'SCzo', 'COApm', 'OLF',\n",
    "# 'BMAa', 'SCiw', 'COAa', 'IntG', 'MGd', 'MRN', 'LD', 'VISmmp', 'CP',\n",
    "# 'VISli', 'PRE', 'RPF', 'LT', 'PF', 'PoT', 'VL', 'RT'\n",
    "popup_scene.add_brain_region('CA1', color='blue', alpha=0.2)\n",
    "popup_scene.add_brain_region('CA2', color='red', alpha=0.2)\n",
    "popup_scene.add_brain_region('CA3', color='green', alpha=0.2)\n",
    "popup_scene.add_brain_region('DG', color='yellow', alpha=0.2)\n",
    "\n",
    "popup_scene.add_brain_region('VIS', color='gray', alpha=0.2)\n",
    "popup_scene.add_brain_region('VISal', color='gray', alpha=0.2)\n",
    "popup_scene.add_brain_region('VISam', color='gray', alpha=0.2)\n",
    "popup_scene.add_brain_region('VISl', color='gray', alpha=0.2)\n",
    "popup_scene.add_brain_region('VISli', color='gray', alpha=0.2)\n",
    "popup_scene.add_brain_region('VISp', color='gray', alpha=0.2)\n",
    "popup_scene.add_brain_region('VISpm', color='gray', alpha=0.2)\n",
    "popup_scene.add_brain_region('VISrl', color='gray', alpha=0.2)\n",
    "\n",
    "# Color the rest of the regions in different colors\n",
    "popup_scene.add_brain_region('APN', color='purple', alpha=0.2)\n",
    "popup_scene.add_brain_region('LP', color='orange', alpha=0.2)\n",
    "popup_scene.add_brain_region('MB', color='pink', alpha=0.2)\n",
    "popup_scene.add_brain_region('TH', color='cyan', alpha=0.2)\n",
    "popup_scene.add_brain_region('LGd', color='brown', alpha=0.2)\n",
    "popup_scene.add_brain_region('ProS', color='lightblue', alpha=0.2)\n",
    "popup_scene.add_brain_region('POL', color='lightgreen', alpha=0.2)\n",
    "popup_scene.add_brain_region('PPT', color='lightyellow', alpha=0.2)\n",
    "popup_scene.add_brain_region('OP', color='lightpink', alpha=0.2)\n",
    "popup_scene.add_brain_region('NOT', color='lightgray', alpha=0.2)\n",
    "popup_scene.add_brain_region('HPF', color='lightpurple', alpha=0.2)\n",
    "popup_scene.add_brain_region('SUB', color='lightorange', alpha=0.2)\n",
    "popup_scene.add_brain_region('ZI', color='lightviolet', alpha=0.2)\n",
    "popup_scene.add_brain_region('LGv', color='lightbrown', alpha=0.2)\n",
    "popup_scene.add_brain_region('SGN', color='lightred', alpha=0.2)\n",
    "popup_scene.add_brain_region('SCig', color='lightblue', alpha=0.2)\n",
    "popup_scene.add_brain_region('MGm', color='lightgreen', alpha=0.2)\n",
    "popup_scene.add_brain_region('MGv', color='lightyellow', alpha=0.2)\n",
    "popup_scene.add_brain_region('VPM', color='lightpink', alpha=0.2)"
   ],
   "id": "e796bd2b6fe2aca7",
   "outputs": [],
   "execution_count": null
  },
  {
   "metadata": {},
   "cell_type": "code",
   "source": [
    "ccf_coords = plot_df[['anterior_posterior_ccf_coordinate',\n",
    "                        'dorsal_ventral_ccf_coordinate',\n",
    "                        'left_right_ccf_coordinate']].values\n",
    "points = Points(ccf_coords, radius=33)\n",
    "popup_scene.add(points)"
   ],
   "id": "e33c0681638382ea",
   "outputs": [],
   "execution_count": null
  },
  {
   "metadata": {},
   "cell_type": "code",
   "source": [
    "region_color = {\n",
    "    'CA1': 'blue',\n",
    "    'CA2': 'red',\n",
    "    'CA3': 'green',\n",
    "    'DG': 'yellow',\n",
    "    'Visual Cortex': 'gray',\n",
    "    'APN': 'purple',\n",
    "    'LP': 'orange',\n",
    "    'MB': 'pink',\n",
    "    'TH': 'cyan',\n",
    "    'LGd': 'brown',\n",
    "    'ProS': 'lightblue',\n",
    "    'POL': 'lightgreen',\n",
    "    'PPT': 'lightyellow',\n",
    "    'OP': 'lightpink',\n",
    "    'NOT': 'lightgray',\n",
    "    'HPF': 'lightpurple',\n",
    "    'SUB': 'lightorange',\n",
    "    'ZI': 'lightviolet',\n",
    "    'LGv': 'lightbrown',\n",
    "    'SGN': 'lightred',\n",
    "    'SCig': 'lightblue',\n",
    "    'MGm': 'lightgreen',\n",
    "    'MGv': 'lightyellow',\n",
    "    'VPM': 'lightpink'\n",
    "}"
   ],
   "id": "6f23903bdae9dbc0",
   "outputs": [],
   "execution_count": null
  },
  {
   "metadata": {},
   "cell_type": "code",
   "source": [
    "list_of_actors = popup_scene.get_actors()\n",
    "list_of_actors"
   ],
   "id": "a0d5a835ad04e1e1",
   "outputs": [],
   "execution_count": null
  },
  {
   "metadata": {},
   "cell_type": "code",
   "source": "",
   "id": "255cff6001fd8a7c",
   "outputs": [],
   "execution_count": null
  },
  {
   "metadata": {},
   "cell_type": "code",
   "source": "# popup_scene.render()",
   "id": "72db67b68b0eb1b5",
   "outputs": [],
   "execution_count": null
  }
 ],
 "metadata": {
  "kernelspec": {
   "display_name": "Python 3",
   "language": "python",
   "name": "python3"
  },
  "language_info": {
   "codemirror_mode": {
    "name": "ipython",
    "version": 2
   },
   "file_extension": ".py",
   "mimetype": "text/x-python",
   "name": "python",
   "nbconvert_exporter": "python",
   "pygments_lexer": "ipython2",
   "version": "2.7.6"
  }
 },
 "nbformat": 4,
 "nbformat_minor": 5
}
